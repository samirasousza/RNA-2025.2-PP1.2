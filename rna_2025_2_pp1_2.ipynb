{
  "cells": [
    {
      "cell_type": "markdown",
      "metadata": {
        "id": "view-in-github",
        "colab_type": "text"
      },
      "source": [
        "<a href=\"https://colab.research.google.com/github/samirasousza/RNA-2025.2-PP1.2/blob/main/rna_2025_2_pp1_2.ipynb\" target=\"_parent\"><img src=\"https://colab.research.google.com/assets/colab-badge.svg\" alt=\"Open In Colab\"/></a>"
      ]
    },
    {
      "cell_type": "markdown",
      "metadata": {
        "id": "Llz391NBUn7F"
      },
      "source": [
        "## Atividade Avaliativa 1.2 - _Churn Prediction_\n",
        "\n",
        "- Redes Neurais Artificiais 2025.2\n",
        "- Profa. Elloá B. Guedes (ebgcosta@uea.edu.br)\n",
        "- http://github.com/elloa\n",
        "\n",
        "### Equipe\n",
        "\n",
        "- Carla Lapa (github.com/integrante1)\n",
        "- Nezi Pimentel (github.com/nezi404)\n",
        "- Samira Souza (github.com/samirasousza)\n",
        "- Vitória (github.com/integrante4)\n",
        "\n",
        "### Apresentação\n",
        "\n",
        "A previsão de evasão de clientes (_Churn Prediction_) é um problema tipicamente abordado pela Ciência de Dados com o uso de modelos de _Machine Learning_ para identificar clientes com alta probabilidade de descontinuar o uso de um serviço ou produto. Possui extrema importância para o domínio de negócios, especialmente para empresas com modelos de receita baseados em assinatura (SaaS, telecomunicações, serviços de streaming) ou que dependem da fidelidade do cliente, especialmente por:\n",
        "\n",
        "1. **Impacto na Receita e Lucratividade.** O custo de adquirir um novo cliente é, em geral, significativamente maior do que o custo de reter um cliente existente. A evasão de clientes (churn) representa uma perda direta de receita recorrente. Ao prever quais clientes estão em risco, as empresas podem intervir com estratégias de retenção direcionadas, como ofertas especiais ou suporte aprimorado, minimizando essa perda financeira. A retenção de clientes não só protege a receita atual, mas também contribui para o aumento do _Lifetime Value_ do cliente, que é a receita total que um cliente gera ao longo de sua relação com a empresa;\n",
        "2. **Otimização de Recursos e Estratégias.** Sem um modelo de previsão, as empresas tendem a adotar estratégias de retenção de forma genérica, aplicando os mesmos esforços a todos os clientes, independentemente do risco de evasão. Isso leva a um desperdício de recursos;\n",
        "3. **Entendimento do Comportamento do Cliente.** A construção de um modelo de previsão de churn exige a análise aprofundada dos dados de comportamento do cliente. Esse processo revela insights valiosos sobre o que leva os clientes a ficarem ou a saírem, o que não apenas ajuda a reter clientes, mas também auxilia o desenvolvimento de produtos, a melhoria do serviço e a criação de estratégias de marketing mais eficazes para atrair clientes com um perfil de maior lealdade.\n",
        "\n",
        "### Contexto do Problema\n",
        "\n",
        "O termo _Telco_ se refere a _telecommunications industry_. Este domínio é particularmente relevante para a análise de churn devido ao seu alto nível de competição e saturação. Os clientes neste setor — seja para serviços de telefonia móvel, internet ou TV a cabo — têm uma vasta gama de provedores à sua escolha, o que torna relativamente fácil para eles migrarem caso estejam insatisfeitos ou encontrem uma oferta melhor.\n",
        "\n",
        "### Base de Dados\n",
        "\n",
        "Base de dados original: https://www.kaggle.com/datasets/blastchar/telco-customer-churn"
      ]
    },
    {
      "cell_type": "markdown",
      "metadata": {
        "id": "eCJVoix9Un7G"
      },
      "source": [
        "### Bibliotecas\n",
        "\n",
        "Por hábito, a primeira célula do notebook costuma ser reservada para importação de bibliotecas.\n",
        "A cada biblioteca nova acrescida, é necessário executar a célula para atualização e correta execução."
      ]
    },
    {
      "cell_type": "code",
      "execution_count": 52,
      "metadata": {
        "id": "zJH_tRYvUn7H"
      },
      "outputs": [],
      "source": [
        "import kagglehub\n",
        "import pandas as pd\n",
        "import numpy as np\n",
        "import matplotlib.pyplot as plt\n",
        "import seaborn as sns\n",
        "from sklearn.model_selection import train_test_split\n",
        "from sklearn.linear_model import LogisticRegression\n",
        "from sklearn.metrics import accuracy_score, confusion_matrix, classification_report\n"
      ]
    },
    {
      "cell_type": "markdown",
      "metadata": {
        "id": "6IH917VVUn7H"
      },
      "source": [
        "## Parte 1 - Análise e Exploração de Dados"
      ]
    },
    {
      "cell_type": "markdown",
      "metadata": {
        "id": "jU6eCx4hUn7H"
      },
      "source": [
        "### Abertura do Dataset\n",
        "Abra o dataset e visualize o seu cabeçalho, isto é, os primeiros exemplos nele contidos. Isto é útil para checar se a importação foi realizada de maneira adequada e se a disposição dos dados está de acordo para os próximos passos do trabalho."
      ]
    },
    {
      "cell_type": "code",
      "execution_count": 7,
      "metadata": {
        "id": "oOc1Ak3pUn7H",
        "outputId": "2692a287-8016-4e22-98f3-fe6772e1c72e",
        "colab": {
          "base_uri": "https://localhost:8080/"
        }
      },
      "outputs": [
        {
          "output_type": "stream",
          "name": "stdout",
          "text": [
            "Using Colab cache for faster access to the 'telco-customer-churn' dataset.\n",
            "Path to dataset files: /kaggle/input/telco-customer-churn\n"
          ]
        }
      ],
      "source": [
        "# Download latest version\n",
        "path = kagglehub.dataset_download(\"blastchar/telco-customer-churn\")\n",
        "\n",
        "print(\"Path to dataset files:\", path)"
      ]
    },
    {
      "cell_type": "markdown",
      "metadata": {
        "id": "UXnqpz2UUn7H"
      },
      "source": [
        "### Conhecendo o dataset\n",
        "\n",
        "Para praticar conceitos relativos à exploração do conjunto de dados, utilize as células a seguir para prover respostas para cada uma das respostas elencadas"
      ]
    },
    {
      "cell_type": "code",
      "execution_count": 8,
      "metadata": {
        "id": "eH_QiF18Un7I",
        "outputId": "8ddbcb30-bd5f-4147-fa27-d4a90927ebc1",
        "colab": {
          "base_uri": "https://localhost:8080/",
          "height": 342
        }
      },
      "outputs": [
        {
          "output_type": "execute_result",
          "data": {
            "text/plain": [
              "   customerID  gender  SeniorCitizen Partner Dependents  tenure PhoneService  \\\n",
              "0  7590-VHVEG  Female              0     Yes         No       1           No   \n",
              "1  5575-GNVDE    Male              0      No         No      34          Yes   \n",
              "2  3668-QPYBK    Male              0      No         No       2          Yes   \n",
              "3  7795-CFOCW    Male              0      No         No      45           No   \n",
              "4  9237-HQITU  Female              0      No         No       2          Yes   \n",
              "\n",
              "      MultipleLines InternetService OnlineSecurity  ... DeviceProtection  \\\n",
              "0  No phone service             DSL             No  ...               No   \n",
              "1                No             DSL            Yes  ...              Yes   \n",
              "2                No             DSL            Yes  ...               No   \n",
              "3  No phone service             DSL            Yes  ...              Yes   \n",
              "4                No     Fiber optic             No  ...               No   \n",
              "\n",
              "  TechSupport StreamingTV StreamingMovies        Contract PaperlessBilling  \\\n",
              "0          No          No              No  Month-to-month              Yes   \n",
              "1          No          No              No        One year               No   \n",
              "2          No          No              No  Month-to-month              Yes   \n",
              "3         Yes          No              No        One year               No   \n",
              "4          No          No              No  Month-to-month              Yes   \n",
              "\n",
              "               PaymentMethod MonthlyCharges  TotalCharges Churn  \n",
              "0           Electronic check          29.85         29.85    No  \n",
              "1               Mailed check          56.95        1889.5    No  \n",
              "2               Mailed check          53.85        108.15   Yes  \n",
              "3  Bank transfer (automatic)          42.30       1840.75    No  \n",
              "4           Electronic check          70.70        151.65   Yes  \n",
              "\n",
              "[5 rows x 21 columns]"
            ],
            "text/html": [
              "\n",
              "  <div id=\"df-253c9199-cd5f-4fce-b962-d6a5142227b3\" class=\"colab-df-container\">\n",
              "    <div>\n",
              "<style scoped>\n",
              "    .dataframe tbody tr th:only-of-type {\n",
              "        vertical-align: middle;\n",
              "    }\n",
              "\n",
              "    .dataframe tbody tr th {\n",
              "        vertical-align: top;\n",
              "    }\n",
              "\n",
              "    .dataframe thead th {\n",
              "        text-align: right;\n",
              "    }\n",
              "</style>\n",
              "<table border=\"1\" class=\"dataframe\">\n",
              "  <thead>\n",
              "    <tr style=\"text-align: right;\">\n",
              "      <th></th>\n",
              "      <th>customerID</th>\n",
              "      <th>gender</th>\n",
              "      <th>SeniorCitizen</th>\n",
              "      <th>Partner</th>\n",
              "      <th>Dependents</th>\n",
              "      <th>tenure</th>\n",
              "      <th>PhoneService</th>\n",
              "      <th>MultipleLines</th>\n",
              "      <th>InternetService</th>\n",
              "      <th>OnlineSecurity</th>\n",
              "      <th>...</th>\n",
              "      <th>DeviceProtection</th>\n",
              "      <th>TechSupport</th>\n",
              "      <th>StreamingTV</th>\n",
              "      <th>StreamingMovies</th>\n",
              "      <th>Contract</th>\n",
              "      <th>PaperlessBilling</th>\n",
              "      <th>PaymentMethod</th>\n",
              "      <th>MonthlyCharges</th>\n",
              "      <th>TotalCharges</th>\n",
              "      <th>Churn</th>\n",
              "    </tr>\n",
              "  </thead>\n",
              "  <tbody>\n",
              "    <tr>\n",
              "      <th>0</th>\n",
              "      <td>7590-VHVEG</td>\n",
              "      <td>Female</td>\n",
              "      <td>0</td>\n",
              "      <td>Yes</td>\n",
              "      <td>No</td>\n",
              "      <td>1</td>\n",
              "      <td>No</td>\n",
              "      <td>No phone service</td>\n",
              "      <td>DSL</td>\n",
              "      <td>No</td>\n",
              "      <td>...</td>\n",
              "      <td>No</td>\n",
              "      <td>No</td>\n",
              "      <td>No</td>\n",
              "      <td>No</td>\n",
              "      <td>Month-to-month</td>\n",
              "      <td>Yes</td>\n",
              "      <td>Electronic check</td>\n",
              "      <td>29.85</td>\n",
              "      <td>29.85</td>\n",
              "      <td>No</td>\n",
              "    </tr>\n",
              "    <tr>\n",
              "      <th>1</th>\n",
              "      <td>5575-GNVDE</td>\n",
              "      <td>Male</td>\n",
              "      <td>0</td>\n",
              "      <td>No</td>\n",
              "      <td>No</td>\n",
              "      <td>34</td>\n",
              "      <td>Yes</td>\n",
              "      <td>No</td>\n",
              "      <td>DSL</td>\n",
              "      <td>Yes</td>\n",
              "      <td>...</td>\n",
              "      <td>Yes</td>\n",
              "      <td>No</td>\n",
              "      <td>No</td>\n",
              "      <td>No</td>\n",
              "      <td>One year</td>\n",
              "      <td>No</td>\n",
              "      <td>Mailed check</td>\n",
              "      <td>56.95</td>\n",
              "      <td>1889.5</td>\n",
              "      <td>No</td>\n",
              "    </tr>\n",
              "    <tr>\n",
              "      <th>2</th>\n",
              "      <td>3668-QPYBK</td>\n",
              "      <td>Male</td>\n",
              "      <td>0</td>\n",
              "      <td>No</td>\n",
              "      <td>No</td>\n",
              "      <td>2</td>\n",
              "      <td>Yes</td>\n",
              "      <td>No</td>\n",
              "      <td>DSL</td>\n",
              "      <td>Yes</td>\n",
              "      <td>...</td>\n",
              "      <td>No</td>\n",
              "      <td>No</td>\n",
              "      <td>No</td>\n",
              "      <td>No</td>\n",
              "      <td>Month-to-month</td>\n",
              "      <td>Yes</td>\n",
              "      <td>Mailed check</td>\n",
              "      <td>53.85</td>\n",
              "      <td>108.15</td>\n",
              "      <td>Yes</td>\n",
              "    </tr>\n",
              "    <tr>\n",
              "      <th>3</th>\n",
              "      <td>7795-CFOCW</td>\n",
              "      <td>Male</td>\n",
              "      <td>0</td>\n",
              "      <td>No</td>\n",
              "      <td>No</td>\n",
              "      <td>45</td>\n",
              "      <td>No</td>\n",
              "      <td>No phone service</td>\n",
              "      <td>DSL</td>\n",
              "      <td>Yes</td>\n",
              "      <td>...</td>\n",
              "      <td>Yes</td>\n",
              "      <td>Yes</td>\n",
              "      <td>No</td>\n",
              "      <td>No</td>\n",
              "      <td>One year</td>\n",
              "      <td>No</td>\n",
              "      <td>Bank transfer (automatic)</td>\n",
              "      <td>42.30</td>\n",
              "      <td>1840.75</td>\n",
              "      <td>No</td>\n",
              "    </tr>\n",
              "    <tr>\n",
              "      <th>4</th>\n",
              "      <td>9237-HQITU</td>\n",
              "      <td>Female</td>\n",
              "      <td>0</td>\n",
              "      <td>No</td>\n",
              "      <td>No</td>\n",
              "      <td>2</td>\n",
              "      <td>Yes</td>\n",
              "      <td>No</td>\n",
              "      <td>Fiber optic</td>\n",
              "      <td>No</td>\n",
              "      <td>...</td>\n",
              "      <td>No</td>\n",
              "      <td>No</td>\n",
              "      <td>No</td>\n",
              "      <td>No</td>\n",
              "      <td>Month-to-month</td>\n",
              "      <td>Yes</td>\n",
              "      <td>Electronic check</td>\n",
              "      <td>70.70</td>\n",
              "      <td>151.65</td>\n",
              "      <td>Yes</td>\n",
              "    </tr>\n",
              "  </tbody>\n",
              "</table>\n",
              "<p>5 rows × 21 columns</p>\n",
              "</div>\n",
              "    <div class=\"colab-df-buttons\">\n",
              "\n",
              "  <div class=\"colab-df-container\">\n",
              "    <button class=\"colab-df-convert\" onclick=\"convertToInteractive('df-253c9199-cd5f-4fce-b962-d6a5142227b3')\"\n",
              "            title=\"Convert this dataframe to an interactive table.\"\n",
              "            style=\"display:none;\">\n",
              "\n",
              "  <svg xmlns=\"http://www.w3.org/2000/svg\" height=\"24px\" viewBox=\"0 -960 960 960\">\n",
              "    <path d=\"M120-120v-720h720v720H120Zm60-500h600v-160H180v160Zm220 220h160v-160H400v160Zm0 220h160v-160H400v160ZM180-400h160v-160H180v160Zm440 0h160v-160H620v160ZM180-180h160v-160H180v160Zm440 0h160v-160H620v160Z\"/>\n",
              "  </svg>\n",
              "    </button>\n",
              "\n",
              "  <style>\n",
              "    .colab-df-container {\n",
              "      display:flex;\n",
              "      gap: 12px;\n",
              "    }\n",
              "\n",
              "    .colab-df-convert {\n",
              "      background-color: #E8F0FE;\n",
              "      border: none;\n",
              "      border-radius: 50%;\n",
              "      cursor: pointer;\n",
              "      display: none;\n",
              "      fill: #1967D2;\n",
              "      height: 32px;\n",
              "      padding: 0 0 0 0;\n",
              "      width: 32px;\n",
              "    }\n",
              "\n",
              "    .colab-df-convert:hover {\n",
              "      background-color: #E2EBFA;\n",
              "      box-shadow: 0px 1px 2px rgba(60, 64, 67, 0.3), 0px 1px 3px 1px rgba(60, 64, 67, 0.15);\n",
              "      fill: #174EA6;\n",
              "    }\n",
              "\n",
              "    .colab-df-buttons div {\n",
              "      margin-bottom: 4px;\n",
              "    }\n",
              "\n",
              "    [theme=dark] .colab-df-convert {\n",
              "      background-color: #3B4455;\n",
              "      fill: #D2E3FC;\n",
              "    }\n",
              "\n",
              "    [theme=dark] .colab-df-convert:hover {\n",
              "      background-color: #434B5C;\n",
              "      box-shadow: 0px 1px 3px 1px rgba(0, 0, 0, 0.15);\n",
              "      filter: drop-shadow(0px 1px 2px rgba(0, 0, 0, 0.3));\n",
              "      fill: #FFFFFF;\n",
              "    }\n",
              "  </style>\n",
              "\n",
              "    <script>\n",
              "      const buttonEl =\n",
              "        document.querySelector('#df-253c9199-cd5f-4fce-b962-d6a5142227b3 button.colab-df-convert');\n",
              "      buttonEl.style.display =\n",
              "        google.colab.kernel.accessAllowed ? 'block' : 'none';\n",
              "\n",
              "      async function convertToInteractive(key) {\n",
              "        const element = document.querySelector('#df-253c9199-cd5f-4fce-b962-d6a5142227b3');\n",
              "        const dataTable =\n",
              "          await google.colab.kernel.invokeFunction('convertToInteractive',\n",
              "                                                    [key], {});\n",
              "        if (!dataTable) return;\n",
              "\n",
              "        const docLinkHtml = 'Like what you see? Visit the ' +\n",
              "          '<a target=\"_blank\" href=https://colab.research.google.com/notebooks/data_table.ipynb>data table notebook</a>'\n",
              "          + ' to learn more about interactive tables.';\n",
              "        element.innerHTML = '';\n",
              "        dataTable['output_type'] = 'display_data';\n",
              "        await google.colab.output.renderOutput(dataTable, element);\n",
              "        const docLink = document.createElement('div');\n",
              "        docLink.innerHTML = docLinkHtml;\n",
              "        element.appendChild(docLink);\n",
              "      }\n",
              "    </script>\n",
              "  </div>\n",
              "\n",
              "\n",
              "    <div id=\"df-edc8f810-411a-4537-8fa7-61592d1db044\">\n",
              "      <button class=\"colab-df-quickchart\" onclick=\"quickchart('df-edc8f810-411a-4537-8fa7-61592d1db044')\"\n",
              "                title=\"Suggest charts\"\n",
              "                style=\"display:none;\">\n",
              "\n",
              "<svg xmlns=\"http://www.w3.org/2000/svg\" height=\"24px\"viewBox=\"0 0 24 24\"\n",
              "     width=\"24px\">\n",
              "    <g>\n",
              "        <path d=\"M19 3H5c-1.1 0-2 .9-2 2v14c0 1.1.9 2 2 2h14c1.1 0 2-.9 2-2V5c0-1.1-.9-2-2-2zM9 17H7v-7h2v7zm4 0h-2V7h2v10zm4 0h-2v-4h2v4z\"/>\n",
              "    </g>\n",
              "</svg>\n",
              "      </button>\n",
              "\n",
              "<style>\n",
              "  .colab-df-quickchart {\n",
              "      --bg-color: #E8F0FE;\n",
              "      --fill-color: #1967D2;\n",
              "      --hover-bg-color: #E2EBFA;\n",
              "      --hover-fill-color: #174EA6;\n",
              "      --disabled-fill-color: #AAA;\n",
              "      --disabled-bg-color: #DDD;\n",
              "  }\n",
              "\n",
              "  [theme=dark] .colab-df-quickchart {\n",
              "      --bg-color: #3B4455;\n",
              "      --fill-color: #D2E3FC;\n",
              "      --hover-bg-color: #434B5C;\n",
              "      --hover-fill-color: #FFFFFF;\n",
              "      --disabled-bg-color: #3B4455;\n",
              "      --disabled-fill-color: #666;\n",
              "  }\n",
              "\n",
              "  .colab-df-quickchart {\n",
              "    background-color: var(--bg-color);\n",
              "    border: none;\n",
              "    border-radius: 50%;\n",
              "    cursor: pointer;\n",
              "    display: none;\n",
              "    fill: var(--fill-color);\n",
              "    height: 32px;\n",
              "    padding: 0;\n",
              "    width: 32px;\n",
              "  }\n",
              "\n",
              "  .colab-df-quickchart:hover {\n",
              "    background-color: var(--hover-bg-color);\n",
              "    box-shadow: 0 1px 2px rgba(60, 64, 67, 0.3), 0 1px 3px 1px rgba(60, 64, 67, 0.15);\n",
              "    fill: var(--button-hover-fill-color);\n",
              "  }\n",
              "\n",
              "  .colab-df-quickchart-complete:disabled,\n",
              "  .colab-df-quickchart-complete:disabled:hover {\n",
              "    background-color: var(--disabled-bg-color);\n",
              "    fill: var(--disabled-fill-color);\n",
              "    box-shadow: none;\n",
              "  }\n",
              "\n",
              "  .colab-df-spinner {\n",
              "    border: 2px solid var(--fill-color);\n",
              "    border-color: transparent;\n",
              "    border-bottom-color: var(--fill-color);\n",
              "    animation:\n",
              "      spin 1s steps(1) infinite;\n",
              "  }\n",
              "\n",
              "  @keyframes spin {\n",
              "    0% {\n",
              "      border-color: transparent;\n",
              "      border-bottom-color: var(--fill-color);\n",
              "      border-left-color: var(--fill-color);\n",
              "    }\n",
              "    20% {\n",
              "      border-color: transparent;\n",
              "      border-left-color: var(--fill-color);\n",
              "      border-top-color: var(--fill-color);\n",
              "    }\n",
              "    30% {\n",
              "      border-color: transparent;\n",
              "      border-left-color: var(--fill-color);\n",
              "      border-top-color: var(--fill-color);\n",
              "      border-right-color: var(--fill-color);\n",
              "    }\n",
              "    40% {\n",
              "      border-color: transparent;\n",
              "      border-right-color: var(--fill-color);\n",
              "      border-top-color: var(--fill-color);\n",
              "    }\n",
              "    60% {\n",
              "      border-color: transparent;\n",
              "      border-right-color: var(--fill-color);\n",
              "    }\n",
              "    80% {\n",
              "      border-color: transparent;\n",
              "      border-right-color: var(--fill-color);\n",
              "      border-bottom-color: var(--fill-color);\n",
              "    }\n",
              "    90% {\n",
              "      border-color: transparent;\n",
              "      border-bottom-color: var(--fill-color);\n",
              "    }\n",
              "  }\n",
              "</style>\n",
              "\n",
              "      <script>\n",
              "        async function quickchart(key) {\n",
              "          const quickchartButtonEl =\n",
              "            document.querySelector('#' + key + ' button');\n",
              "          quickchartButtonEl.disabled = true;  // To prevent multiple clicks.\n",
              "          quickchartButtonEl.classList.add('colab-df-spinner');\n",
              "          try {\n",
              "            const charts = await google.colab.kernel.invokeFunction(\n",
              "                'suggestCharts', [key], {});\n",
              "          } catch (error) {\n",
              "            console.error('Error during call to suggestCharts:', error);\n",
              "          }\n",
              "          quickchartButtonEl.classList.remove('colab-df-spinner');\n",
              "          quickchartButtonEl.classList.add('colab-df-quickchart-complete');\n",
              "        }\n",
              "        (() => {\n",
              "          let quickchartButtonEl =\n",
              "            document.querySelector('#df-edc8f810-411a-4537-8fa7-61592d1db044 button');\n",
              "          quickchartButtonEl.style.display =\n",
              "            google.colab.kernel.accessAllowed ? 'block' : 'none';\n",
              "        })();\n",
              "      </script>\n",
              "    </div>\n",
              "\n",
              "    </div>\n",
              "  </div>\n"
            ],
            "application/vnd.google.colaboratory.intrinsic+json": {
              "type": "dataframe",
              "variable_name": "data"
            }
          },
          "metadata": {},
          "execution_count": 8
        }
      ],
      "source": [
        "data = pd.read_csv(path + \"/WA_Fn-UseC_-Telco-Customer-Churn.csv\")\n",
        "data.head()"
      ]
    },
    {
      "cell_type": "markdown",
      "metadata": {
        "id": "j7Kdd7xKUn7I"
      },
      "source": [
        "#### Quantos exemplos há no dataset?"
      ]
    },
    {
      "cell_type": "code",
      "execution_count": null,
      "metadata": {
        "id": "vZBTjZcTUn7I",
        "outputId": "eda05b74-3841-4acc-ad24-2b1b281e6f37",
        "colab": {
          "base_uri": "https://localhost:8080/"
        }
      },
      "outputs": [
        {
          "output_type": "execute_result",
          "data": {
            "text/plain": [
              "(7043, 21)"
            ]
          },
          "metadata": {},
          "execution_count": 5
        }
      ],
      "source": [
        "data.shape"
      ]
    },
    {
      "cell_type": "markdown",
      "metadata": {
        "id": "eS7-18bTUn7I"
      },
      "source": [
        "#### Dados Faltantes\n",
        "\n",
        "- Elimine todas as entradas em que há dados faltantes\n",
        "- Qual o decréscimo percentual no tamanho do dataset?"
      ]
    },
    {
      "cell_type": "code",
      "execution_count": 9,
      "metadata": {
        "id": "4ADgxyO2Un7I",
        "outputId": "d351e6c6-24b3-4ff0-ea60-c600cc83f1b0",
        "colab": {
          "base_uri": "https://localhost:8080/"
        }
      },
      "outputs": [
        {
          "output_type": "execute_result",
          "data": {
            "text/plain": [
              "(7043, 21)"
            ]
          },
          "metadata": {},
          "execution_count": 9
        }
      ],
      "source": [
        "df = data.dropna(how=\"any\")\n",
        "df.shape"
      ]
    },
    {
      "cell_type": "markdown",
      "metadata": {
        "id": "juq7g_GYUn7I"
      },
      "source": [
        "#### Dados Duplicados\n",
        "\n",
        "- Verifique se há clientes duplicados (mesmo id é repetido)\n",
        "- Em caso afirmativo, elimine as duplicatas, favorecendo as entradas mais recentes"
      ]
    },
    {
      "cell_type": "code",
      "execution_count": 10,
      "metadata": {
        "id": "FiUmQ2NOUn7I",
        "outputId": "a40e1df7-8413-4b42-9ca3-67c2817f4aa6",
        "colab": {
          "base_uri": "https://localhost:8080/"
        }
      },
      "outputs": [
        {
          "output_type": "execute_result",
          "data": {
            "text/plain": [
              "(7043, 21)"
            ]
          },
          "metadata": {},
          "execution_count": 10
        }
      ],
      "source": [
        "df.drop_duplicates(subset=\"customerID\")\n",
        "df.shape"
      ]
    },
    {
      "cell_type": "markdown",
      "metadata": {
        "id": "D38lUQmGUn7I"
      },
      "source": [
        "#### Quais os atributos existentes no dataset e seu tipo?\n",
        "\n",
        "- Exemplos de tipos de dados são categóricos (nominal ou ordinal), numéricos (discreto ou contínuo), textual ou estampa de tempo. Faça uma análise e agrupe por categoria na sua resposta. Observe que analisar os tipos das variáveis não é suficiente."
      ]
    },
    {
      "cell_type": "code",
      "execution_count": 11,
      "metadata": {
        "id": "cg57kSfdUn7I",
        "colab": {
          "base_uri": "https://localhost:8080/",
          "height": 742
        },
        "outputId": "2266fe35-1330-4901-cc55-45290606dcb4"
      },
      "outputs": [
        {
          "output_type": "execute_result",
          "data": {
            "text/plain": [
              "customerID           object\n",
              "gender               object\n",
              "SeniorCitizen         int64\n",
              "Partner              object\n",
              "Dependents           object\n",
              "tenure                int64\n",
              "PhoneService         object\n",
              "MultipleLines        object\n",
              "InternetService      object\n",
              "OnlineSecurity       object\n",
              "OnlineBackup         object\n",
              "DeviceProtection     object\n",
              "TechSupport          object\n",
              "StreamingTV          object\n",
              "StreamingMovies      object\n",
              "Contract             object\n",
              "PaperlessBilling     object\n",
              "PaymentMethod        object\n",
              "MonthlyCharges      float64\n",
              "TotalCharges         object\n",
              "Churn                object\n",
              "dtype: object"
            ],
            "text/html": [
              "<div>\n",
              "<style scoped>\n",
              "    .dataframe tbody tr th:only-of-type {\n",
              "        vertical-align: middle;\n",
              "    }\n",
              "\n",
              "    .dataframe tbody tr th {\n",
              "        vertical-align: top;\n",
              "    }\n",
              "\n",
              "    .dataframe thead th {\n",
              "        text-align: right;\n",
              "    }\n",
              "</style>\n",
              "<table border=\"1\" class=\"dataframe\">\n",
              "  <thead>\n",
              "    <tr style=\"text-align: right;\">\n",
              "      <th></th>\n",
              "      <th>0</th>\n",
              "    </tr>\n",
              "  </thead>\n",
              "  <tbody>\n",
              "    <tr>\n",
              "      <th>customerID</th>\n",
              "      <td>object</td>\n",
              "    </tr>\n",
              "    <tr>\n",
              "      <th>gender</th>\n",
              "      <td>object</td>\n",
              "    </tr>\n",
              "    <tr>\n",
              "      <th>SeniorCitizen</th>\n",
              "      <td>int64</td>\n",
              "    </tr>\n",
              "    <tr>\n",
              "      <th>Partner</th>\n",
              "      <td>object</td>\n",
              "    </tr>\n",
              "    <tr>\n",
              "      <th>Dependents</th>\n",
              "      <td>object</td>\n",
              "    </tr>\n",
              "    <tr>\n",
              "      <th>tenure</th>\n",
              "      <td>int64</td>\n",
              "    </tr>\n",
              "    <tr>\n",
              "      <th>PhoneService</th>\n",
              "      <td>object</td>\n",
              "    </tr>\n",
              "    <tr>\n",
              "      <th>MultipleLines</th>\n",
              "      <td>object</td>\n",
              "    </tr>\n",
              "    <tr>\n",
              "      <th>InternetService</th>\n",
              "      <td>object</td>\n",
              "    </tr>\n",
              "    <tr>\n",
              "      <th>OnlineSecurity</th>\n",
              "      <td>object</td>\n",
              "    </tr>\n",
              "    <tr>\n",
              "      <th>OnlineBackup</th>\n",
              "      <td>object</td>\n",
              "    </tr>\n",
              "    <tr>\n",
              "      <th>DeviceProtection</th>\n",
              "      <td>object</td>\n",
              "    </tr>\n",
              "    <tr>\n",
              "      <th>TechSupport</th>\n",
              "      <td>object</td>\n",
              "    </tr>\n",
              "    <tr>\n",
              "      <th>StreamingTV</th>\n",
              "      <td>object</td>\n",
              "    </tr>\n",
              "    <tr>\n",
              "      <th>StreamingMovies</th>\n",
              "      <td>object</td>\n",
              "    </tr>\n",
              "    <tr>\n",
              "      <th>Contract</th>\n",
              "      <td>object</td>\n",
              "    </tr>\n",
              "    <tr>\n",
              "      <th>PaperlessBilling</th>\n",
              "      <td>object</td>\n",
              "    </tr>\n",
              "    <tr>\n",
              "      <th>PaymentMethod</th>\n",
              "      <td>object</td>\n",
              "    </tr>\n",
              "    <tr>\n",
              "      <th>MonthlyCharges</th>\n",
              "      <td>float64</td>\n",
              "    </tr>\n",
              "    <tr>\n",
              "      <th>TotalCharges</th>\n",
              "      <td>object</td>\n",
              "    </tr>\n",
              "    <tr>\n",
              "      <th>Churn</th>\n",
              "      <td>object</td>\n",
              "    </tr>\n",
              "  </tbody>\n",
              "</table>\n",
              "</div><br><label><b>dtype:</b> object</label>"
            ]
          },
          "metadata": {},
          "execution_count": 11
        }
      ],
      "source": [
        "df.dtypes"
      ]
    },
    {
      "cell_type": "markdown",
      "metadata": {
        "id": "VJE_ZGO4Un7I"
      },
      "source": [
        "#### Qual cliente paga o maior valor de assinatura mensal e que não faz streaming de filmes?\n",
        "\n",
        "- Apresente o valor pago mensalmente e os demais atributos desse cliente"
      ]
    },
    {
      "cell_type": "code",
      "execution_count": 12,
      "metadata": {
        "id": "cSJEOI4MUn7J",
        "colab": {
          "base_uri": "https://localhost:8080/"
        },
        "outputId": "bae0ddd9-66fb-4823-c04b-46dcabddff60"
      },
      "outputs": [
        {
          "output_type": "execute_result",
          "data": {
            "text/plain": [
              "np.float64(106.75)"
            ]
          },
          "metadata": {},
          "execution_count": 12
        }
      ],
      "source": [
        "df[df[\"StreamingMovies\"] == \"No\"].max()[\"MonthlyCharges\"]"
      ]
    },
    {
      "cell_type": "code",
      "execution_count": 13,
      "metadata": {
        "id": "-38JoFDfUn7J",
        "colab": {
          "base_uri": "https://localhost:8080/",
          "height": 742
        },
        "outputId": "cab5ffdf-1b2f-4ca0-9002-5f2724192769"
      },
      "outputs": [
        {
          "output_type": "execute_result",
          "data": {
            "text/plain": [
              "customerID            9992-UJOEL\n",
              "gender                      Male\n",
              "SeniorCitizen                  1\n",
              "Partner                      Yes\n",
              "Dependents                   Yes\n",
              "tenure                        72\n",
              "PhoneService                 Yes\n",
              "MultipleLines                Yes\n",
              "InternetService      Fiber optic\n",
              "OnlineSecurity               Yes\n",
              "OnlineBackup                 Yes\n",
              "DeviceProtection             Yes\n",
              "TechSupport                  Yes\n",
              "StreamingTV                  Yes\n",
              "StreamingMovies               No\n",
              "Contract                Two year\n",
              "PaperlessBilling             Yes\n",
              "PaymentMethod       Mailed check\n",
              "MonthlyCharges            106.75\n",
              "TotalCharges              999.45\n",
              "Churn                        Yes\n",
              "dtype: object"
            ],
            "text/html": [
              "<div>\n",
              "<style scoped>\n",
              "    .dataframe tbody tr th:only-of-type {\n",
              "        vertical-align: middle;\n",
              "    }\n",
              "\n",
              "    .dataframe tbody tr th {\n",
              "        vertical-align: top;\n",
              "    }\n",
              "\n",
              "    .dataframe thead th {\n",
              "        text-align: right;\n",
              "    }\n",
              "</style>\n",
              "<table border=\"1\" class=\"dataframe\">\n",
              "  <thead>\n",
              "    <tr style=\"text-align: right;\">\n",
              "      <th></th>\n",
              "      <th>0</th>\n",
              "    </tr>\n",
              "  </thead>\n",
              "  <tbody>\n",
              "    <tr>\n",
              "      <th>customerID</th>\n",
              "      <td>9992-UJOEL</td>\n",
              "    </tr>\n",
              "    <tr>\n",
              "      <th>gender</th>\n",
              "      <td>Male</td>\n",
              "    </tr>\n",
              "    <tr>\n",
              "      <th>SeniorCitizen</th>\n",
              "      <td>1</td>\n",
              "    </tr>\n",
              "    <tr>\n",
              "      <th>Partner</th>\n",
              "      <td>Yes</td>\n",
              "    </tr>\n",
              "    <tr>\n",
              "      <th>Dependents</th>\n",
              "      <td>Yes</td>\n",
              "    </tr>\n",
              "    <tr>\n",
              "      <th>tenure</th>\n",
              "      <td>72</td>\n",
              "    </tr>\n",
              "    <tr>\n",
              "      <th>PhoneService</th>\n",
              "      <td>Yes</td>\n",
              "    </tr>\n",
              "    <tr>\n",
              "      <th>MultipleLines</th>\n",
              "      <td>Yes</td>\n",
              "    </tr>\n",
              "    <tr>\n",
              "      <th>InternetService</th>\n",
              "      <td>Fiber optic</td>\n",
              "    </tr>\n",
              "    <tr>\n",
              "      <th>OnlineSecurity</th>\n",
              "      <td>Yes</td>\n",
              "    </tr>\n",
              "    <tr>\n",
              "      <th>OnlineBackup</th>\n",
              "      <td>Yes</td>\n",
              "    </tr>\n",
              "    <tr>\n",
              "      <th>DeviceProtection</th>\n",
              "      <td>Yes</td>\n",
              "    </tr>\n",
              "    <tr>\n",
              "      <th>TechSupport</th>\n",
              "      <td>Yes</td>\n",
              "    </tr>\n",
              "    <tr>\n",
              "      <th>StreamingTV</th>\n",
              "      <td>Yes</td>\n",
              "    </tr>\n",
              "    <tr>\n",
              "      <th>StreamingMovies</th>\n",
              "      <td>No</td>\n",
              "    </tr>\n",
              "    <tr>\n",
              "      <th>Contract</th>\n",
              "      <td>Two year</td>\n",
              "    </tr>\n",
              "    <tr>\n",
              "      <th>PaperlessBilling</th>\n",
              "      <td>Yes</td>\n",
              "    </tr>\n",
              "    <tr>\n",
              "      <th>PaymentMethod</th>\n",
              "      <td>Mailed check</td>\n",
              "    </tr>\n",
              "    <tr>\n",
              "      <th>MonthlyCharges</th>\n",
              "      <td>106.75</td>\n",
              "    </tr>\n",
              "    <tr>\n",
              "      <th>TotalCharges</th>\n",
              "      <td>999.45</td>\n",
              "    </tr>\n",
              "    <tr>\n",
              "      <th>Churn</th>\n",
              "      <td>Yes</td>\n",
              "    </tr>\n",
              "  </tbody>\n",
              "</table>\n",
              "</div><br><label><b>dtype:</b> object</label>"
            ]
          },
          "metadata": {},
          "execution_count": 13
        }
      ],
      "source": [
        "df[df[\"StreamingMovies\"] == \"No\"].max()"
      ]
    },
    {
      "cell_type": "markdown",
      "metadata": {
        "id": "9jX2zkz6Un7J"
      },
      "source": [
        "#### Histograma do tempo de permanência\n",
        "\n",
        "O histograma é um gráfico que mostra as frequências de uma determinada informação. No nosso caso, vamos construir histogramas que mostram o tempo de permanência no serviço (tenure). Vamos agrupar os valores em bins, cujo número deve ser definido pela Regra de Sturges.\n",
        "\n",
        "- Plote dois histogramas, um para os clientes que evadiram do serviço e outro para os que continuaram sua assinatura\n",
        "- Rotule os eixos e utilize boas práticas de visualização da informação\n",
        "- Faça a seguinte análise: as distribuições são diferentes?\n",
        "\n",
        "Documentação completa disponível em: https://matplotlib.org/stable/api/_as_gen/matplotlib.pyplot.hist.html\n"
      ]
    },
    {
      "cell_type": "code",
      "execution_count": 15,
      "metadata": {
        "id": "lhOChrOnUn7J"
      },
      "outputs": [],
      "source": [
        "tenure_churn = data[data[\"Churn\"] == \"Yes\"][\"tenure\"] # evadidos\n",
        "tenure_active = data[data[\"Churn\"] == \"No\"][\"tenure\"] # não evadidos\n",
        "\n",
        "# Calcular o número de bins pela Regra de Sturges\n",
        "n_churn = len(tenure_churn)\n",
        "n_active = len(tenure_active)\n",
        "\n",
        "k_churn = int (np.ceil(1 + 3.322 * np.log10(n_churn)))\n",
        "k_active = int (np.ceil(1 + 3.322 * np.log10(n_active)))\n",
        "\n",
        "bins = max(k_churn, k_active) #usa o maior"
      ]
    },
    {
      "cell_type": "code",
      "execution_count": 16,
      "metadata": {
        "id": "weBLk2CUUn7J",
        "outputId": "1c6c4bf9-9a1f-4cf7-f592-07fc38ffbe11",
        "colab": {
          "base_uri": "https://localhost:8080/",
          "height": 507
        }
      },
      "outputs": [
        {
          "output_type": "display_data",
          "data": {
            "text/plain": [
              "<Figure size 1200x500 with 2 Axes>"
            ],
            "image/png": "[encoded data removed]"
          },
          "metadata": {}
        }
      ],
      "source": [
        "plt.figure(figsize=(12, 5))\n",
        "\n",
        "# Histograma - evadidos\n",
        "plt.subplot(1, 2, 1)\n",
        "plt.hist(tenure_churn, bins=bins, color=\"tomato\", edgecolor=\"black\", alpha=0.7)\n",
        "plt.title(\"Clientes que Evadiram (Churn = Yes)\", fontsize=13, fontweight=\"bold\")\n",
        "plt.xlabel(\"Tempo de permanência (meses)\")\n",
        "plt.ylabel(\"Número de clientes\")\n",
        "plt.grid(axis=\"y\", linestyle=\"--\", alpha=0.6)\n",
        "\n",
        "# Histograma - não evadidos\n",
        "plt.subplot(1, 2, 2)\n",
        "plt.hist(tenure_active, bins=bins, color=\"seagreen\", edgecolor=\"black\", alpha=0.7)\n",
        "plt.title(\"Clientes Ativos (Churn = No)\", fontsize=13, fontweight=\"bold\")\n",
        "plt.xlabel(\"Tempo de permanência (meses)\")\n",
        "plt.ylabel(\"Número de clientes\")\n",
        "plt.grid(axis=\"y\", linestyle=\"--\", alpha=0.6)\n",
        "\n",
        "plt.tight_layout()\n",
        "plt.show()"
      ]
    },
    {
      "cell_type": "markdown",
      "source": [
        "## Análise do histograma:\n",
        "\n",
        "* Clientes que evadiram (Churn = Yes): maioria cancelou logo nos primeiros meses de contrato (tenure baixo).\n",
        "\n",
        "* Clientes ativos (Churn = No): mais distribuídos, mas com grande concentração em quem já está há muito tempo no serviço.\n",
        "\n",
        "* Conclusão: as distribuições são diferentes; a evasão ocorre principalmente no início, enquanto a fidelização se fortalece com o tempo de permanência.\n",
        "\n"
      ],
      "metadata": {
        "id": "T3Pj64_NteUq"
      }
    },
    {
      "cell_type": "markdown",
      "metadata": {
        "id": "wYmSqyqaUn7J"
      },
      "source": [
        "#### Boxplot das Cobranças Mensais\n",
        "\n",
        "Como é a distribuição das cobranças mensais? O gráfico boxplot pode nos ajudar nesta questão.\n",
        "\n",
        "O boxplot ilustra informações importantes:\n",
        "- Mediana\n",
        "- Limite inferior (menor valor)\n",
        "- Limite superior (maior valor)\n",
        "- Q1 (primeiro quartil, 25% dos dados)\n",
        "- Q3 (terceiro quartil, 75% dos dados)\n",
        "- Outliers (se houver)\n",
        "\n",
        "A distribuição dos exemplos no dataset é simétrica no tocante ao atributo em questão? Elabore um parágrafo que justifique as conclusões obtidas a partir da análise do boxplot.\n",
        "\n",
        "Documentação completa disponível em: https://matplotlib.org/stable/api/_as_gen/matplotlib.pyplot.boxplot.html"
      ]
    },
    {
      "cell_type": "code",
      "execution_count": 17,
      "metadata": {
        "id": "wbK-yJeAUn7J",
        "colab": {
          "base_uri": "https://localhost:8080/",
          "height": 569
        },
        "outputId": "9748ac94-01d1-496b-abfd-72c0b90bb5f2"
      },
      "outputs": [
        {
          "output_type": "execute_result",
          "data": {
            "text/plain": [
              "{'whiskers': [<matplotlib.lines.Line2D at 0x7fb6451d9160>,\n",
              "  <matplotlib.lines.Line2D at 0x7fb6451d9460>],\n",
              " 'caps': [<matplotlib.lines.Line2D at 0x7fb6451d9760>,\n",
              "  <matplotlib.lines.Line2D at 0x7fb6451d9a90>],\n",
              " 'boxes': [<matplotlib.lines.Line2D at 0x7fb645ac9850>],\n",
              " 'medians': [<matplotlib.lines.Line2D at 0x7fb6451d9d60>],\n",
              " 'fliers': [<matplotlib.lines.Line2D at 0x7fb6451da000>],\n",
              " 'means': []}"
            ]
          },
          "metadata": {},
          "execution_count": 17
        },
        {
          "output_type": "display_data",
          "data": {
            "text/plain": [
              "<Figure size 640x480 with 1 Axes>"
            ],
            "image/png": "[encoded data removed]"
          },
          "metadata": {}
        }
      ],
      "source": [
        "plt.boxplot(x='MonthlyCharges', data=df)"
      ]
    },
    {
      "cell_type": "markdown",
      "source": [
        "## Análise do gráfico:\n",
        "\n",
        "* A distribuição dos exemplos no dataset é não é simétrica no tocante ao atributo em questão, pois os valores de seu limete inferior e superior variam, respectivamente, entre aproximadamente 20 e 100"
      ],
      "metadata": {
        "id": "t2uH9ouxu0bo"
      }
    },
    {
      "cell_type": "markdown",
      "metadata": {
        "id": "4A5EK0IGUn7J"
      },
      "source": [
        "#### Taxa de Churn\n",
        "\n",
        "- Qual a taxa de churn para cada perfil de tipo de pagamento mensal? Há diferenças?"
      ]
    },
    {
      "cell_type": "code",
      "execution_count": 18,
      "metadata": {
        "id": "t-KEl71jUn7J",
        "colab": {
          "base_uri": "https://localhost:8080/"
        },
        "outputId": "3a070ad6-e8e1-4fa6-d615-788e102dfe23"
      },
      "outputs": [
        {
          "output_type": "execute_result",
          "data": {
            "text/plain": [
              "26.578498293515356"
            ]
          },
          "metadata": {},
          "execution_count": 18
        }
      ],
      "source": [
        "\n",
        "churn_rate_general = (df[df[\"Churn\"] == \"Yes\"].shape[0]/df[df[\"tenure\"] > 0].shape[0]) * 100\n",
        "churn_rate_general"
      ]
    },
    {
      "cell_type": "code",
      "source": [
        "churn_rate_payment = (\n",
        "    df.groupby(\"PaymentMethod\")[\"Churn\"]\n",
        "    .apply(lambda x: (x == \"Yes\").mean() * 100)  # percentual\n",
        "    .reset_index(name=\"Churn Rate (%)\")\n",
        ")\n",
        "\n",
        "print(churn_rate_payment)"
      ],
      "metadata": {
        "colab": {
          "base_uri": "https://localhost:8080/"
        },
        "id": "J7Z8jLmM2qB7",
        "outputId": "7fb1ac7a-ebf1-455e-d598-73ebba5e1acc"
      },
      "execution_count": 19,
      "outputs": [
        {
          "output_type": "stream",
          "name": "stdout",
          "text": [
            "               PaymentMethod  Churn Rate (%)\n",
            "0  Bank transfer (automatic)       16.709845\n",
            "1    Credit card (automatic)       15.243101\n",
            "2           Electronic check       45.285412\n",
            "3               Mailed check       19.106700\n"
          ]
        }
      ]
    },
    {
      "cell_type": "markdown",
      "metadata": {
        "id": "hvpskQAqUn7J"
      },
      "source": [
        "#### Avaliação de Hipóteses\n",
        "\n",
        "Analise as seguintes hipóteses, elaborando gráficos e consulta aos dados para embasar suas justificativas:\n",
        "\n",
        "- Hipótese 1: \"Clientes que optaram por serviços como TechSupport (suporte técnico) têm uma probabilidade menor de churn.\"\n",
        "- Hipótese 2: \"A taxa de churn é significativamente maior para clientes com contratos de curto prazo em comparação com aqueles com contratos de longo prazo.\"\n",
        "- Hipótese 3: \"Clientes com múltiplos serviços, com dependentes e que fazem backup online possuem baixa probabilidade de trocar de prestadora\""
      ]
    },
    {
      "cell_type": "code",
      "execution_count": 20,
      "metadata": {
        "id": "J_hSS44TUn7J",
        "colab": {
          "base_uri": "https://localhost:8080/",
          "height": 511
        },
        "outputId": "58689d35-da3a-470c-c491-df1cec1cf234"
      },
      "outputs": [
        {
          "output_type": "stream",
          "name": "stdout",
          "text": [
            "\n",
            "Hipótese 1 — Taxa de churn por TechSupport:\n",
            "           TechSupport  ChurnRate(%)\n",
            "0                   No     41.635474\n",
            "2                  Yes     15.166341\n",
            "1  No internet service      7.404980\n"
          ]
        },
        {
          "output_type": "display_data",
          "data": {
            "text/plain": [
              "<Figure size 600x400 with 1 Axes>"
            ],
            "image/png": "[encoded data removed]"
          },
          "metadata": {}
        }
      ],
      "source": [
        "# Hipótese 1\n",
        "\n",
        "h1_rates = (\n",
        "        df.groupby(\"TechSupport\")[\"Churn\"]\n",
        "        .apply(lambda s: (s == \"Yes\").mean() * 100)\n",
        "        .reset_index(name=\"ChurnRate(%)\")\n",
        "        .sort_values(\"ChurnRate(%)\", ascending=False)\n",
        "    )\n",
        "print(\"\\nHipótese 1 — Taxa de churn por TechSupport:\")\n",
        "print(h1_rates)\n",
        "\n",
        "plt.figure(figsize=(6,4))\n",
        "plt.bar(h1_rates[\"TechSupport\"].astype(str), h1_rates[\"ChurnRate(%)\"])\n",
        "plt.ylabel(\"Taxa de churn (%)\")\n",
        "plt.xlabel(\"TechSupport\")\n",
        "plt.title(\"Churn por TechSupport\")\n",
        "plt.grid(axis=\"y\", linestyle=\"--\", alpha=0.6)\n",
        "plt.tight_layout()\n",
        "plt.show()"
      ]
    },
    {
      "cell_type": "code",
      "execution_count": 21,
      "metadata": {
        "id": "N3--DMRTUn7J",
        "colab": {
          "base_uri": "https://localhost:8080/",
          "height": 494
        },
        "outputId": "d574877a-a89c-4240-b058-5ca9b41d2443"
      },
      "outputs": [
        {
          "output_type": "stream",
          "name": "stdout",
          "text": [
            "Taxa de churn (%) por tipo de contrato\n",
            "         Contract  ChurnRate(%)\n",
            "0  Month-to-month     42.709677\n",
            "1        One year     11.269518\n",
            "2        Two year      2.831858\n"
          ]
        },
        {
          "output_type": "display_data",
          "data": {
            "text/plain": [
              "<Figure size 700x400 with 1 Axes>"
            ],
            "image/png": "[encoded data removed]"
          },
          "metadata": {}
        }
      ],
      "source": [
        "# Hipótese 2\n",
        "\n",
        "h2_rates = (\n",
        "    df.groupby(\"Contract\")[\"Churn\"]\n",
        "    .apply(lambda s: (s == \"Yes\").mean() * 100)\n",
        "    .reset_index(name=\"ChurnRate(%)\")\n",
        "    .sort_values(\"ChurnRate(%)\", ascending=False)\n",
        ")\n",
        "\n",
        "print(\"Taxa de churn (%) por tipo de contrato\")\n",
        "print(h2_rates)\n",
        "\n",
        "plt.figure(figsize=(7,4))\n",
        "plt.bar(h2_rates[\"Contract\"].astype(str), h2_rates[\"ChurnRate(%)\"])\n",
        "plt.ylabel(\"Taxa de churn (%)\")\n",
        "plt.xlabel(\"Contract\")\n",
        "plt.title(\"Churn por Tipo de Contrato\")\n",
        "plt.xticks(rotation=15)\n",
        "plt.grid(axis=\"y\", linestyle=\"--\", alpha=0.6)\n",
        "plt.tight_layout()\n",
        "plt.show()\n"
      ]
    },
    {
      "cell_type": "code",
      "source": [
        "# Hipótese 3\n",
        "\n",
        "cols = [\"OnlineSecurity\",\"OnlineBackup\",\"DeviceProtection\",\"TechSupport\",\"StreamingTV\",\"StreamingMovies\",\"MultipleLines\"]\n",
        "for c in cols + [\"PhoneService\",\"Dependents\",\"InternetService\"]:\n",
        "    df[c] = df[c].astype(str)\n",
        "\n",
        "internet_ativa = (df[\"InternetService\"] != \"No\").astype(int)\n",
        "phone_yes = (df[\"PhoneService\"] == \"Yes\").astype(int)\n",
        "addons = sum((df[c] == \"Yes\").astype(int) for c in cols)\n",
        "\n",
        "df[\"grupo_h3\"] = (\n",
        "    (internet_ativa == 1) &\n",
        "    (phone_yes == 1) &\n",
        "    (addons >= 3) &\n",
        "    (df[\"Dependents\"] == \"Yes\") &\n",
        "    (df[\"OnlineBackup\"] == \"Yes\")\n",
        ").map({True: \"Grupo H3\", False: \"Outros\"})\n",
        "\n",
        "h3_rates = (\n",
        "    df.groupby(\"grupo_h3\")[\"Churn\"]\n",
        "    .apply(lambda s: (s == \"Yes\").mean() * 100)\n",
        "    .reset_index(name=\"ChurnRate(%)\")\n",
        ")\n",
        "\n",
        "print(\"Taxa de churn (%) — Grupo H3 vs Outros\")\n",
        "print(h3_rates)\n",
        "\n",
        "plt.figure(figsize=(6,4))\n",
        "plt.bar(h3_rates[\"grupo_h3\"], h3_rates[\"ChurnRate(%)\"])\n",
        "plt.ylabel(\"Taxa de churn (%)\")\n",
        "plt.xlabel(\"Grupo\")\n",
        "plt.title(\"Churn: Grupo H3 vs Outros\")\n",
        "plt.grid(axis=\"y\", linestyle=\"--\", alpha=0.6)\n",
        "plt.tight_layout()\n",
        "plt.show()\n"
      ],
      "metadata": {
        "colab": {
          "base_uri": "https://localhost:8080/",
          "height": 476
        },
        "id": "JW853EWf6_AE",
        "outputId": "d25caca3-d0b2-4705-f02b-4d843325b044"
      },
      "execution_count": 24,
      "outputs": [
        {
          "output_type": "stream",
          "name": "stdout",
          "text": [
            "Taxa de churn (%) — Grupo H3 vs Outros\n",
            "   grupo_h3  ChurnRate(%)\n",
            "0  Grupo H3     12.436116\n",
            "1    Outros     27.819083\n"
          ]
        },
        {
          "output_type": "display_data",
          "data": {
            "text/plain": [
              "<Figure size 600x400 with 1 Axes>"
            ],
            "image/png": "[encoded data removed]"
          },
          "metadata": {}
        }
      ]
    },
    {
      "cell_type": "markdown",
      "metadata": {
        "id": "W72N50dKUn7J"
      },
      "source": [
        "#### Perfil do Cliente de Risco\n",
        "\n",
        "Crie uma série de 3 a 4 gráficos conectados que, juntos, respondam à seguinte pergunta:\n",
        "\n",
        "_**Qual é o perfil do cliente com alta probabilidade de churn e o que mais o influencia a sair?**_\n",
        "\n",
        "1. Visualização da Distribuição de Permanência (Tenure)  \n",
        "- Gráfico: Histograma ou gráfico de densidade comparando o tempo de permanência (tenure) de clientes que saíram (Churn = Yes) com o de clientes que ficaram (Churn = No).\n",
        "- Objetivo: Mostrar visualmente se o churn é mais comum entre clientes novos ou antigos.\n",
        "\n",
        "2. Análise da Relação entre Tipo de Contrato e Evasão\n",
        "- Gráfico: Gráfico de barras agrupadas ou empilhadas que mostre a taxa de churn para cada tipo de contrato (Monthly, One year, Two year).\n",
        "- Objetivo: Demonstrar o impacto do tipo de contrato na decisão do cliente de sair.\n",
        "\n",
        "3. Combinação de Variáveis: Preços e Serviços\n",
        "- Gráfico: Gráfico de dispersão (scatter plot) ou um gráfico de box plot que combine duas variáveis-chave, como MonthlyCharges (cobranças mensais) e o tipo de serviço de internet (InternetService), segmentado pela variável Churn.\n",
        "- Objetivo: Revelar se clientes que pagam mais por um tipo específico de serviço (ex: Fibra Óptica) têm uma taxa de churn diferente. Isso pode sugerir, por exemplo, que a insatisfação está ligada à qualidade de um serviço mais caro.\n",
        "\n",
        "\n",
        "Escreva um breve parágrafo resumindo as descobertas. A resposta deve conectar as visualizações, respondendo à pergunta inicial sobre o perfil do cliente em risco de forma coesa e baseada nas evidências visuais."
      ]
    },
    {
      "cell_type": "code",
      "execution_count": 63,
      "metadata": {
        "id": "uAplweNPUn7J",
        "colab": {
          "base_uri": "https://localhost:8080/",
          "height": 1000
        },
        "outputId": "7d7e73b6-e834-4526-fbc3-03f646ed545e"
      },
      "outputs": [
        {
          "output_type": "stream",
          "name": "stderr",
          "text": [
            "/tmp/ipython-input-4223843551.py:16: FutureWarning: \n",
            "\n",
            "Passing `palette` without assigning `hue` is deprecated and will be removed in v0.14.0. Assign the `x` variable to `hue` and set `legend=False` for the same effect.\n",
            "\n",
            "  sns.barplot(data=contract_churn, x=\"Contract\", y=\"ChurnRate(%)\", palette=\"viridis\")\n"
          ]
        },
        {
          "output_type": "display_data",
          "data": {
            "text/plain": [
              "<Figure size 600x400 with 1 Axes>"
            ],
            "image/png": "[encoded data removed]"
          },
          "metadata": {}
        },
        {
          "output_type": "display_data",
          "data": {
            "text/plain": [
              "<Figure size 600x400 with 1 Axes>"
            ],
            "image/png": "[encoded data removed]"
          },
          "metadata": {}
        },
        {
          "output_type": "display_data",
          "data": {
            "text/plain": [
              "<Figure size 600x400 with 1 Axes>"
            ],
            "image/png": "[encoded data removed]"
          },
          "metadata": {}
        }
      ],
      "source": [
        "# 1. Distribuição de Permanência (Tenure)\n",
        "plt.figure(figsize=(6,4))\n",
        "sns.histplot(data=df, x=\"tenure\", hue=\"Churn\", bins=30, kde=True, palette={\"Yes\":\"tomato\",\"No\":\"seagreen\"}, alpha=0.6)\n",
        "plt.title(\"Distribuição de Tempo de Permanência (Tenure)\")\n",
        "plt.xlabel(\"Tenure (meses)\")\n",
        "plt.ylabel(\"Número de clientes\")\n",
        "\n",
        "# 2. Análise da Relação entre Tipo de Contrato e Evasão\n",
        "contract_churn = (\n",
        "    df.groupby(\"Contract\")[\"Churn\"]\n",
        "    .apply(lambda s: (s==\"Yes\").mean()*100)\n",
        "    .reset_index(name=\"ChurnRate(%)\")\n",
        ")\n",
        "\n",
        "plt.figure(figsize=(6,4))\n",
        "sns.barplot(data=contract_churn, x=\"Contract\", y=\"ChurnRate(%)\", palette=\"viridis\")\n",
        "plt.title(\"Taxa de Churn por Tipo de Contrato\")\n",
        "plt.ylabel(\"Taxa de churn (%)\")\n",
        "plt.xlabel(\"Tipo de contrato\")\n",
        "plt.grid(axis=\"y\", linestyle=\"--\", alpha=0.6)\n",
        "plt.show()\n",
        "\n",
        "# 3. Combinação de Variáveis: Preços e Serviços\n",
        "plt.figure(figsize=(6,4))\n",
        "sns.boxplot(data=df, x=\"InternetService\", y=\"MonthlyCharges\", hue=\"Churn\")\n",
        "plt.title(\"Monthly Charges vs InternetService (segmentado por Churn)\")\n",
        "plt.ylabel(\"Cobrança Mensal (USD)\")\n",
        "plt.xlabel(\"Tipo de serviço de internet\")\n",
        "plt.legend(title=\"Churn\")\n",
        "plt.grid(axis=\"y\", linestyle=\"--\", alpha=0.6)\n",
        "plt.show()\n"
      ]
    },
    {
      "cell_type": "markdown",
      "metadata": {
        "id": "yBpsvMGpUn7J"
      },
      "source": [
        "#### Gênero do Cliente\n",
        "\n",
        "Conforme a documentação da base de dados, há dois valores possíveis para o gênero do cliente, são eles:  \n",
        "    - M: Masculino  \n",
        "    - F: Feminino  \n",
        "    \n",
        "Tal como dispostos, segundo strings, essas informações não ajudam modelos que lidam apenas com dados numéricos. É necessário efetuar uma codificação para representar tais valores. Assim, codifique a coluna gender conforme a abordagem One-Hot Encoding e elimine a coluna original do dataset.\n",
        "\n",
        "Referências:\n",
        "- https://towardsdatascience.com/what-is-one-hot-encoding-and-how-to-use-pandas-get-dummies-function-922eb9bd4970\n",
        "- https://scikit-learn.org/stable/modules/generated/sklearn.preprocessing.OneHotEncoder.html"
      ]
    },
    {
      "cell_type": "code",
      "execution_count": null,
      "metadata": {
        "id": "qH2_MJ9DUn7J"
      },
      "outputs": [],
      "source": []
    },
    {
      "cell_type": "markdown",
      "metadata": {
        "id": "v20a8RzaUn7J"
      },
      "source": [
        "#### Codificação dos Atributos\n",
        "\n",
        "- Se o atributo tiver duas categorias, repita o processo de codificação conforme proposto anteriormente.\n",
        "- Senão se o atributo tiver entre três e até cinco categorias, utilize Label Encoding.\n",
        "- Em caso contrário, elimine a coluna em questão.\n",
        "\n",
        "Referências:\n",
        "- https://scikit-learn.org/stable/modules/generated/sklearn.preprocessing.LabelEncoder.html\n"
      ]
    },
    {
      "cell_type": "code",
      "execution_count": null,
      "metadata": {
        "id": "F-F_BCBQUn7J"
      },
      "outputs": [],
      "source": []
    },
    {
      "cell_type": "markdown",
      "metadata": {
        "id": "Q0Z9gKmcUn7J"
      },
      "source": [
        "#### O dataset é balanceado?\n",
        "\n",
        "- Considera-se que o dataset é balanceado se não houver mais de 10% de diferença no quantitativo das classes nele presentes. Faça a avaliação nesses termos. Elabore gráficos que justificam sua resposta.\n",
        "- A partir da resposta considerada, apresente quatro métricas de desempenho a serem utilizadas na avaliação comparativa de modelos para esse problema"
      ]
    },
    {
      "cell_type": "code",
      "execution_count": null,
      "metadata": {
        "id": "dszfxy_PUn7J"
      },
      "outputs": [],
      "source": []
    },
    {
      "cell_type": "markdown",
      "metadata": {
        "id": "s5N6eJxHUn7K"
      },
      "source": [
        "## Parte 2 - Tarefa de Aprendizado de Máquina\n",
        "\n",
        "Abordaremos o problema da previsão de churn como uma tarefa de classificação binária."
      ]
    },
    {
      "cell_type": "markdown",
      "metadata": {
        "id": "w7P5nxmoUn7K"
      },
      "source": [
        "#### Preparação dos dados para Validação Cruzada Holdout\n",
        "\n",
        "- Vamos separar o atributo alvo (Age) dos atributores preditores.\n",
        "  - Atributos preditores devem ser armazenados em uma variável denominada X  \n",
        "  - Atributo alvo deve ser armazenado em uma variável denominada y\n",
        "- Qual o tipo de entrada do modelo?\n",
        "- Vamos efetuar uma partição do tipo holdout estratificada 70/30\n",
        "\n",
        "Documentação completa disponível em: https://scikit-learn.org/stable/modules/generated/sklearn.model_selection.train_test_split.html"
      ]
    },
    {
      "cell_type": "code",
      "execution_count": 47,
      "metadata": {
        "id": "91TiTrlUUn7K"
      },
      "outputs": [],
      "source": [
        "X = df.drop(\"Churn\", axis=1)  # Atributos preditores\n",
        "y = df[\"Churn\"]  # Atributo alvo (Churn)"
      ]
    },
    {
      "cell_type": "code",
      "source": [
        "# Holdout estratificada 70/30\n",
        "X_train, X_test, y_train, y_test = train_test_split(X, y, test_size=0.3, random_state=42, stratify=y)\n",
        "\n",
        "# Dimensões\n",
        "print(\"Tamanho do conjunto de treino:\", X_train.shape)\n",
        "print(\"Tamanho do conjunto de teste:\", X_test.shape)"
      ],
      "metadata": {
        "id": "lulCRrsxm6n5",
        "outputId": "e587d786-2bf7-42b1-a5f7-c8461d25a40d",
        "colab": {
          "base_uri": "https://localhost:8080/"
        }
      },
      "execution_count": 48,
      "outputs": [
        {
          "output_type": "stream",
          "name": "stdout",
          "text": [
            "Tamanho do conjunto de treino: (4930, 21)\n",
            "Tamanho do conjunto de teste: (2113, 21)\n"
          ]
        }
      ]
    },
    {
      "cell_type": "markdown",
      "metadata": {
        "id": "uk5w4l_RUn7K"
      },
      "source": [
        "#### Treinar um modelo de regressão logística para o problema\n",
        "\n",
        "A Regressão Logística é uma técnica de Aprendizado de Máquina que tem como objetivo produzir, a partir de um conjunto de observações, um modelo que permita a predição de valores tomados por uma variável categórica, frequentemente binária, a partir de uma série de variáveis explicativas.\n",
        "\n",
        "1. Importe o modelo da biblioteca sklearn\n",
        "2. Instancie o modelo com parâmetros padrão (default)\n",
        "3. Execute o algoritmo de treinamento com os dados de treino\n",
        "\n",
        "Documentação completa disponível em: https://scikit-learn.org/stable/modules/generated/sklearn.linear_model.LogisticRegression.html"
      ]
    },
    {
      "cell_type": "code",
      "source": [],
      "metadata": {
        "id": "je-TLE_RsQch"
      },
      "execution_count": 61,
      "outputs": []
    },
    {
      "cell_type": "markdown",
      "metadata": {
        "id": "V31zeP9YUn7K"
      },
      "source": [
        "#### Obtendo previsões do modelo\n",
        "\n",
        "1. Selecione um exemplo arbitrário da partição de teste\n",
        "2. Forneça os atributos preditores e obtenha a previsão da churn\n",
        "3. O modelo previu a saída corretamente?"
      ]
    },
    {
      "cell_type": "code",
      "execution_count": null,
      "metadata": {
        "id": "A6hzxbtpUn7K"
      },
      "outputs": [],
      "source": []
    },
    {
      "cell_type": "markdown",
      "metadata": {
        "id": "9RbkqJvwUn7K"
      },
      "source": [
        "#### Avalie o modelo perante o conjunto de testes\n",
        "\n",
        "1. Obtenha as métricas elencadas para o conjunto de testes\n",
        "  * Efetue a importação de tais métricas a partir do pacote sklearn.metrics\n",
        "2. Elabore uma visualização da matriz de confusão normalizada para as previsões do conjunto de testes\n",
        "3. O modelo é bom para o problema? Justifique sua afirmação."
      ]
    },
    {
      "cell_type": "code",
      "execution_count": null,
      "metadata": {
        "id": "Au8cZWeKUn7K"
      },
      "outputs": [],
      "source": []
    },
    {
      "cell_type": "markdown",
      "metadata": {
        "id": "RtGVxCO3Un7K"
      },
      "source": [
        "#### Treinar um modelo de K-Vizinhos Mais Próximos\n",
        "\n",
        "É um algoritmo de Aprendizado de Máquina que baseia-se na média dos valores dos k vizinhos mais próximos a uma dada entrada para produzir uma estimativa para o atributo-alvo. É considerado \"preguiçoso\", mas muito mostra-se vantajoso por possuir um baixo custo computacional.\n",
        "\n",
        "1. Efetue o treinamento do K-Vizinhos mais Próximos, considerando k = 5\n",
        "2. Efetue o teste no modelo e obtenha as métricas de desempenho previamente indicadas.  "
      ]
    },
    {
      "cell_type": "code",
      "execution_count": null,
      "metadata": {
        "id": "Zjx6zaCeUn7K"
      },
      "outputs": [],
      "source": []
    },
    {
      "cell_type": "markdown",
      "metadata": {
        "id": "LQJ2qvbYUn7K"
      },
      "source": [
        "#### Treinar um modelo de Árvore de Decisão\n",
        "\n",
        "É um modelo de aprendizado de máquina supervisionado, utilizado para problemas de classificação e regressão. Sua estrutura se assemelha a um fluxograma, em que cada nó interno representa um teste em uma atributo dado, cada ramo corresponde a um resultado desse teste, e cada nó folha a uma decisão final ou previsão. Destaca-se por sua interpretabilidade\n",
        "\n",
        "1. Efetue o treinamento do Árvore de Decisão, utilizando o critério de entropia.\n",
        "2. Efetue o teste no modelo e obtenha as métricas de desempenho previamente indicadas.  \n",
        "3. Plote a árvore de decisão construída."
      ]
    },
    {
      "cell_type": "code",
      "execution_count": null,
      "metadata": {
        "id": "2HA9zJJ8Un7K"
      },
      "outputs": [],
      "source": []
    },
    {
      "cell_type": "markdown",
      "metadata": {
        "id": "hLQQ4J2kUn7L"
      },
      "source": [
        "#### Síntese dos Resultados\n",
        "\n",
        "- Agrupe as matrizes de confusão obtidas lado a lado\n",
        "- Crie uma tabela com todos os modelos e métricas (Pretty Table)"
      ]
    },
    {
      "cell_type": "code",
      "execution_count": null,
      "metadata": {
        "id": "hfgxJV_qUn7L"
      },
      "outputs": [],
      "source": []
    },
    {
      "cell_type": "code",
      "execution_count": null,
      "metadata": {
        "id": "OsV8H1HMUn7L"
      },
      "outputs": [],
      "source": []
    },
    {
      "cell_type": "markdown",
      "metadata": {
        "id": "YUn7SuYrUn7L"
      },
      "source": [
        "#### Argumente\n",
        "\n",
        "- Qual o melhor modelo para o problema em questão?\n",
        "- Qual o grau de dificuldade da tarefa de aprendizado proposta? Justifique a partir dos elementos e resultados obtidos nas células anteriores."
      ]
    },
    {
      "cell_type": "code",
      "execution_count": null,
      "metadata": {
        "id": "G1jrvVu-Un7L"
      },
      "outputs": [],
      "source": []
    }
  ],
  "metadata": {
    "kernelspec": {
      "display_name": "Python 3",
      "language": "python",
      "name": "python3"
    },
    "language_info": {
      "codemirror_mode": {
        "name": "ipython",
        "version": 3
      },
      "file_extension": ".py",
      "mimetype": "text/x-python",
      "name": "python",
      "nbconvert_exporter": "python",
      "pygments_lexer": "ipython3",
      "version": "3.6.9"
    },
    "colab": {
      "provenance": [],
      "include_colab_link": true
    }
  },
  "nbformat": 4,
  "nbformat_minor": 0
}