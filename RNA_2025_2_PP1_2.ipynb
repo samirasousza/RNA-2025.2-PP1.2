{
  "cells": [
    {
      "cell_type": "markdown",
      "metadata": {
        "id": "view-in-github",
        "colab_type": "text"
      },
      "source": [
        "<a href=\"https://colab.research.google.com/github/samirasousza/RNA-2025.2-PP1.2/blob/main/RNA_2025_2_PP1_2.ipynb\" target=\"_parent\"><img src=\"https://colab.research.google.com/assets/colab-badge.svg\" alt=\"Open In Colab\"/></a>"
      ]
    },
    {
      "cell_type": "markdown",
      "metadata": {
        "id": "Llz391NBUn7F"
      },
      "source": [
        "## Atividade Avaliativa 1.2 - _Churn Prediction_\n",
        "\n",
        "- Redes Neurais Artificiais 2025.2\n",
        "- Profa. Elloá B. Guedes (ebgcosta@uea.edu.br)\n",
        "- http://github.com/elloa\n",
        "\n",
        "### Equipe\n",
        "\n",
        "- Carla Lapa (github.com/integrante1)\n",
        "- Nezi Pimentel 2 (github.com/integrante2)\n",
        "- Samira Souza (github.com/samirasousza)\n",
        "- Vitória (github.com/integrante4)\n",
        "\n",
        "### Apresentação\n",
        "\n",
        "A previsão de evasão de clientes (_Churn Prediction_) é um problema tipicamente abordado pela Ciência de Dados com o uso de modelos de _Machine Learning_ para identificar clientes com alta probabilidade de descontinuar o uso de um serviço ou produto. Possui extrema importância para o domínio de negócios, especialmente para empresas com modelos de receita baseados em assinatura (SaaS, telecomunicações, serviços de streaming) ou que dependem da fidelidade do cliente, especialmente por:\n",
        "\n",
        "1. **Impacto na Receita e Lucratividade.** O custo de adquirir um novo cliente é, em geral, significativamente maior do que o custo de reter um cliente existente. A evasão de clientes (churn) representa uma perda direta de receita recorrente. Ao prever quais clientes estão em risco, as empresas podem intervir com estratégias de retenção direcionadas, como ofertas especiais ou suporte aprimorado, minimizando essa perda financeira. A retenção de clientes não só protege a receita atual, mas também contribui para o aumento do _Lifetime Value_ do cliente, que é a receita total que um cliente gera ao longo de sua relação com a empresa;\n",
        "2. **Otimização de Recursos e Estratégias.** Sem um modelo de previsão, as empresas tendem a adotar estratégias de retenção de forma genérica, aplicando os mesmos esforços a todos os clientes, independentemente do risco de evasão. Isso leva a um desperdício de recursos;\n",
        "3. **Entendimento do Comportamento do Cliente.** A construção de um modelo de previsão de churn exige a análise aprofundada dos dados de comportamento do cliente. Esse processo revela insights valiosos sobre o que leva os clientes a ficarem ou a saírem, o que não apenas ajuda a reter clientes, mas também auxilia o desenvolvimento de produtos, a melhoria do serviço e a criação de estratégias de marketing mais eficazes para atrair clientes com um perfil de maior lealdade.\n",
        "\n",
        "### Contexto do Problema\n",
        "\n",
        "O termo _Telco_ se refere a _telecommunications industry_. Este domínio é particularmente relevante para a análise de churn devido ao seu alto nível de competição e saturação. Os clientes neste setor — seja para serviços de telefonia móvel, internet ou TV a cabo — têm uma vasta gama de provedores à sua escolha, o que torna relativamente fácil para eles migrarem caso estejam insatisfeitos ou encontrem uma oferta melhor.\n",
        "\n",
        "### Base de Dados\n",
        "\n",
        "Base de dados original: https://www.kaggle.com/datasets/blastchar/telco-customer-churn"
      ]
    },
    {
      "cell_type": "markdown",
      "metadata": {
        "id": "eCJVoix9Un7G"
      },
      "source": [
        "### Bibliotecas\n",
        "\n",
        "Por hábito, a primeira célula do notebook costuma ser reservada para importação de bibliotecas.\n",
        "A cada biblioteca nova acrescida, é necessário executar a célula para atualização e correta execução."
      ]
    },
    {
      "cell_type": "code",
      "execution_count": null,
      "metadata": {
        "id": "zJH_tRYvUn7H"
      },
      "outputs": [],
      "source": []
    },
    {
      "cell_type": "markdown",
      "metadata": {
        "id": "6IH917VVUn7H"
      },
      "source": [
        "## Parte 1 - Análise e Exploração de Dados"
      ]
    },
    {
      "cell_type": "markdown",
      "metadata": {
        "id": "jU6eCx4hUn7H"
      },
      "source": [
        "### Abertura do Dataset\n",
        "Abra o dataset e visualize o seu cabeçalho, isto é, os primeiros exemplos nele contidos. Isto é útil para checar se a importação foi realizada de maneira adequada e se a disposição dos dados está de acordo para os próximos passos do trabalho."
      ]
    },
    {
      "cell_type": "code",
      "execution_count": null,
      "metadata": {
        "id": "oOc1Ak3pUn7H"
      },
      "outputs": [],
      "source": []
    },
    {
      "cell_type": "markdown",
      "metadata": {
        "id": "UXnqpz2UUn7H"
      },
      "source": [
        "### Conhecendo o dataset\n",
        "\n",
        "Para praticar conceitos relativos à exploração do conjunto de dados, utilize as células a seguir para prover respostas para cada uma das respostas elencadas"
      ]
    },
    {
      "cell_type": "code",
      "execution_count": null,
      "metadata": {
        "id": "eH_QiF18Un7I"
      },
      "outputs": [],
      "source": []
    },
    {
      "cell_type": "markdown",
      "metadata": {
        "id": "j7Kdd7xKUn7I"
      },
      "source": [
        "#### Quantos exemplos há no dataset?"
      ]
    },
    {
      "cell_type": "code",
      "execution_count": null,
      "metadata": {
        "id": "vZBTjZcTUn7I"
      },
      "outputs": [],
      "source": []
    },
    {
      "cell_type": "markdown",
      "metadata": {
        "id": "eS7-18bTUn7I"
      },
      "source": [
        "#### Dados Faltantes\n",
        "\n",
        "- Elimine todas as entradas em que há dados faltantes\n",
        "- Qual o decréscimo percentual no tamanho do dataset?"
      ]
    },
    {
      "cell_type": "code",
      "execution_count": null,
      "metadata": {
        "id": "4ADgxyO2Un7I"
      },
      "outputs": [],
      "source": []
    },
    {
      "cell_type": "code",
      "execution_count": null,
      "metadata": {
        "id": "nm7DSNTNUn7I"
      },
      "outputs": [],
      "source": []
    },
    {
      "cell_type": "markdown",
      "metadata": {
        "id": "juq7g_GYUn7I"
      },
      "source": [
        "#### Dados Duplicados\n",
        "\n",
        "- Verifique se há clientes duplicados (mesmo id é repetido)\n",
        "- Em caso afirmativo, elimine as duplicatas, favorecendo as entradas mais recentes"
      ]
    },
    {
      "cell_type": "code",
      "execution_count": null,
      "metadata": {
        "id": "FiUmQ2NOUn7I"
      },
      "outputs": [],
      "source": []
    },
    {
      "cell_type": "markdown",
      "metadata": {
        "id": "D38lUQmGUn7I"
      },
      "source": [
        "#### Quais os atributos existentes no dataset e seu tipo?\n",
        "\n",
        "- Exemplos de tipos de dados são categóricos (nominal ou ordinal), numéricos (discreto ou contínuo), textual ou estampa de tempo. Faça uma análise e agrupe por categoria na sua resposta. Observe que analisar os tipos das variáveis não é suficiente."
      ]
    },
    {
      "cell_type": "code",
      "execution_count": null,
      "metadata": {
        "id": "cg57kSfdUn7I"
      },
      "outputs": [],
      "source": []
    },
    {
      "cell_type": "markdown",
      "metadata": {
        "id": "VJE_ZGO4Un7I"
      },
      "source": [
        "#### Qual cliente paga o maior valor de assinatura mensal e que não faz streaming de filmes?\n",
        "\n",
        "- Apresente o valor pago mensalmente e os demais atributos desse cliente"
      ]
    },
    {
      "cell_type": "code",
      "execution_count": null,
      "metadata": {
        "id": "cSJEOI4MUn7J"
      },
      "outputs": [],
      "source": []
    },
    {
      "cell_type": "code",
      "execution_count": null,
      "metadata": {
        "id": "-38JoFDfUn7J"
      },
      "outputs": [],
      "source": []
    },
    {
      "cell_type": "markdown",
      "metadata": {
        "id": "9jX2zkz6Un7J"
      },
      "source": [
        "#### Histograma do tempo de permanência\n",
        "\n",
        "O histograma é um gráfico que mostra as frequências de uma determinada informação. No nosso caso, vamos construir histogramas que mostram o tempo de permanência no serviço (tenure). Vamos agrupar os valores em bins, cujo número deve ser definido pela Regra de Sturges.\n",
        "\n",
        "- Plote dois histogramas, um para os clientes que evadiram do serviço e outro para os que continuaram sua assinatura\n",
        "- Rotule os eixos e utilize boas práticas de visualização da informação\n",
        "- Faça a seguinte análise: as distribuições são diferentes?\n",
        "\n",
        "Documentação completa disponível em: https://matplotlib.org/stable/api/_as_gen/matplotlib.pyplot.hist.html\n"
      ]
    },
    {
      "cell_type": "code",
      "execution_count": null,
      "metadata": {
        "id": "lhOChrOnUn7J"
      },
      "outputs": [],
      "source": []
    },
    {
      "cell_type": "code",
      "execution_count": null,
      "metadata": {
        "id": "weBLk2CUUn7J"
      },
      "outputs": [],
      "source": []
    },
    {
      "cell_type": "markdown",
      "metadata": {
        "id": "wYmSqyqaUn7J"
      },
      "source": [
        "#### Boxplot das Cobranças Mensais\n",
        "\n",
        "Como é a distribuição das cobranças mensais? O gráfico boxplot pode nos ajudar nesta questão.\n",
        "\n",
        "O boxplot ilustra informações importantes:\n",
        "- Mediana\n",
        "- Limite inferior (menor valor)\n",
        "- Limite superior (maior valor)\n",
        "- Q1 (primeiro quartil, 25% dos dados)\n",
        "- Q3 (terceiro quartil, 75% dos dados)\n",
        "- Outliers (se houver)\n",
        "\n",
        "A distribuição dos exemplos no dataset é simétrica no tocante ao atributo em questão? Elabore um parágrafo que justifique as conclusões obtidas a partir da análise do boxplot.\n",
        "\n",
        "Documentação completa disponível em: https://matplotlib.org/stable/api/_as_gen/matplotlib.pyplot.boxplot.html"
      ]
    },
    {
      "cell_type": "code",
      "execution_count": null,
      "metadata": {
        "id": "wbK-yJeAUn7J"
      },
      "outputs": [],
      "source": []
    },
    {
      "cell_type": "markdown",
      "metadata": {
        "id": "4A5EK0IGUn7J"
      },
      "source": [
        "#### Taxa de Churn\n",
        "\n",
        "- Qual a taxa de churn para cada perfil de tipo de pagamento mensal? Há diferenças?"
      ]
    },
    {
      "cell_type": "code",
      "execution_count": null,
      "metadata": {
        "id": "t-KEl71jUn7J"
      },
      "outputs": [],
      "source": []
    },
    {
      "cell_type": "markdown",
      "metadata": {
        "id": "hvpskQAqUn7J"
      },
      "source": [
        "#### Avaliação de Hipóteses\n",
        "\n",
        "Analise as seguintes hipóteses, elaborando gráficos e consulta aos dados para embasar suas justificativas:\n",
        "\n",
        "- Hipótese 1: \"Clientes que optaram por serviços como TechSupport (suporte técnico) têm uma probabilidade menor de churn.\"\n",
        "- Hipótese 2: \"A taxa de churn é significativamente maior para clientes com contratos de curto prazo em comparação com aqueles com contratos de longo prazo.\"\n",
        "- Hipótese 3: \"Clientes com múltiplos serviços, com dependentes e que fazem backup online possuem baixa probabilidade de trocar de prestadora\""
      ]
    },
    {
      "cell_type": "code",
      "execution_count": null,
      "metadata": {
        "id": "HOWEE8o-Un7J"
      },
      "outputs": [],
      "source": []
    },
    {
      "cell_type": "code",
      "execution_count": null,
      "metadata": {
        "id": "J_hSS44TUn7J"
      },
      "outputs": [],
      "source": []
    },
    {
      "cell_type": "code",
      "execution_count": null,
      "metadata": {
        "id": "N3--DMRTUn7J"
      },
      "outputs": [],
      "source": []
    },
    {
      "cell_type": "markdown",
      "metadata": {
        "id": "W72N50dKUn7J"
      },
      "source": [
        "#### Perfil do Cliente de Risco\n",
        "\n",
        "Crie uma série de 3 a 4 gráficos conectados que, juntos, respondam à seguinte pergunta:\n",
        "\n",
        "_**Qual é o perfil do cliente com alta probabilidade de churn e o que mais o influencia a sair?**_\n",
        "\n",
        "1. Visualização da Distribuição de Permanência (Tenure)  \n",
        "- Gráfico: Histograma ou gráfico de densidade comparando o tempo de permanência (tenure) de clientes que saíram (Churn = Yes) com o de clientes que ficaram (Churn = No).\n",
        "- Objetivo: Mostrar visualmente se o churn é mais comum entre clientes novos ou antigos.\n",
        "\n",
        "2. Análise da Relação entre Tipo de Contrato e Evasão\n",
        "- Gráfico: Gráfico de barras agrupadas ou empilhadas que mostre a taxa de churn para cada tipo de contrato (Monthly, One year, Two year).\n",
        "- Objetivo: Demonstrar o impacto do tipo de contrato na decisão do cliente de sair.\n",
        "\n",
        "3. Combinação de Variáveis: Preços e Serviços\n",
        "- Gráfico: Gráfico de dispersão (scatter plot) ou um gráfico de box plot que combine duas variáveis-chave, como MonthlyCharges (cobranças mensais) e o tipo de serviço de internet (InternetService), segmentado pela variável Churn.\n",
        "- Objetivo: Revelar se clientes que pagam mais por um tipo específico de serviço (ex: Fibra Óptica) têm uma taxa de churn diferente. Isso pode sugerir, por exemplo, que a insatisfação está ligada à qualidade de um serviço mais caro.\n",
        "\n",
        "\n",
        "Escreva um breve parágrafo resumindo as descobertas. A resposta deve conectar as visualizações, respondendo à pergunta inicial sobre o perfil do cliente em risco de forma coesa e baseada nas evidências visuais."
      ]
    },
    {
      "cell_type": "code",
      "execution_count": null,
      "metadata": {
        "id": "uAplweNPUn7J"
      },
      "outputs": [],
      "source": []
    },
    {
      "cell_type": "markdown",
      "metadata": {
        "id": "yBpsvMGpUn7J"
      },
      "source": [
        "#### Gênero do Cliente\n",
        "\n",
        "Conforme a documentação da base de dados, há dois valores possíveis para o gênero do cliente, são eles:  \n",
        "    - M: Masculino  \n",
        "    - F: Feminino  \n",
        "    \n",
        "Tal como dispostos, segundo strings, essas informações não ajudam modelos que lidam apenas com dados numéricos. É necessário efetuar uma codificação para representar tais valores. Assim, codifique a coluna gender conforme a abordagem One-Hot Encoding e elimine a coluna original do dataset.\n",
        "\n",
        "Referências:\n",
        "- https://towardsdatascience.com/what-is-one-hot-encoding-and-how-to-use-pandas-get-dummies-function-922eb9bd4970\n",
        "- https://scikit-learn.org/stable/modules/generated/sklearn.preprocessing.OneHotEncoder.html"
      ]
    },
    {
      "cell_type": "code",
      "execution_count": null,
      "metadata": {
        "id": "qH2_MJ9DUn7J"
      },
      "outputs": [],
      "source": []
    },
    {
      "cell_type": "markdown",
      "metadata": {
        "id": "v20a8RzaUn7J"
      },
      "source": [
        "#### Codificação dos Atributos\n",
        "\n",
        "- Se o atributo tiver duas categorias, repita o processo de codificação conforme proposto anteriormente.\n",
        "- Senão se o atributo tiver entre três e até cinco categorias, utilize Label Encoding.\n",
        "- Em caso contrário, elimine a coluna em questão.\n",
        "\n",
        "Referências:\n",
        "- https://scikit-learn.org/stable/modules/generated/sklearn.preprocessing.LabelEncoder.html\n"
      ]
    },
    {
      "cell_type": "code",
      "execution_count": null,
      "metadata": {
        "id": "F-F_BCBQUn7J"
      },
      "outputs": [],
      "source": []
    },
    {
      "cell_type": "markdown",
      "metadata": {
        "id": "Q0Z9gKmcUn7J"
      },
      "source": [
        "#### O dataset é balanceado?\n",
        "\n",
        "- Considera-se que o dataset é balanceado se não houver mais de 10% de diferença no quantitativo das classes nele presentes. Faça a avaliação nesses termos. Elabore gráficos que justificam sua resposta.\n",
        "- A partir da resposta considerada, apresente quatro métricas de desempenho a serem utilizadas na avaliação comparativa de modelos para esse problema"
      ]
    },
    {
      "cell_type": "code",
      "execution_count": null,
      "metadata": {
        "id": "dszfxy_PUn7J"
      },
      "outputs": [],
      "source": []
    },
    {
      "cell_type": "markdown",
      "metadata": {
        "id": "s5N6eJxHUn7K"
      },
      "source": [
        "## Parte 2 - Tarefa de Aprendizado de Máquina\n",
        "\n",
        "Abordaremos o problema da previsão de churn como uma tarefa de classificação binária."
      ]
    },
    {
      "cell_type": "markdown",
      "metadata": {
        "id": "w7P5nxmoUn7K"
      },
      "source": [
        "#### Preparação dos dados para Validação Cruzada Holdout\n",
        "\n",
        "- Vamos separar o atributo alvo (Age) dos atributores preditores.\n",
        "  - Atributos preditores devem ser armazenados em uma variável denominada X  \n",
        "  - Atributo alvo deve ser armazenado em uma variável denominada y\n",
        "- Qual o tipo de entrada do modelo?\n",
        "- Vamos efetuar uma partição do tipo holdout estratificada 70/30\n",
        "\n",
        "Documentação completa disponível em: https://scikit-learn.org/stable/modules/generated/sklearn.model_selection.train_test_split.html"
      ]
    },
    {
      "cell_type": "code",
      "execution_count": null,
      "metadata": {
        "id": "91TiTrlUUn7K"
      },
      "outputs": [],
      "source": []
    },
    {
      "cell_type": "markdown",
      "metadata": {
        "id": "uk5w4l_RUn7K"
      },
      "source": [
        "#### Treinar um modelo de regressão logística para o problema\n",
        "\n",
        "A Regressão Logística é uma técnica de Aprendizado de Máquina que tem como objetivo produzir, a partir de um conjunto de observações, um modelo que permita a predição de valores tomados por uma variável categórica, frequentemente binária, a partir de uma série de variáveis explicativas.\n",
        "\n",
        "1. Importe o modelo da biblioteca sklearn\n",
        "2. Instancie o modelo com parâmetros padrão (default)\n",
        "3. Execute o algoritmo de treinamento com os dados de treino\n",
        "\n",
        "Documentação completa disponível em: https://scikit-learn.org/stable/modules/generated/sklearn.linear_model.LogisticRegression.html"
      ]
    },
    {
      "cell_type": "code",
      "execution_count": null,
      "metadata": {
        "id": "b7NPYd9GUn7K"
      },
      "outputs": [],
      "source": []
    },
    {
      "cell_type": "markdown",
      "metadata": {
        "id": "V31zeP9YUn7K"
      },
      "source": [
        "#### Obtendo previsões do modelo\n",
        "\n",
        "1. Selecione um exemplo arbitrário da partição de teste\n",
        "2. Forneça os atributos preditores e obtenha a previsão da churn\n",
        "3. O modelo previu a saída corretamente?"
      ]
    },
    {
      "cell_type": "code",
      "execution_count": null,
      "metadata": {
        "id": "A6hzxbtpUn7K"
      },
      "outputs": [],
      "source": []
    },
    {
      "cell_type": "markdown",
      "metadata": {
        "id": "9RbkqJvwUn7K"
      },
      "source": [
        "#### Avalie o modelo perante o conjunto de testes\n",
        "\n",
        "1. Obtenha as métricas elencadas para o conjunto de testes\n",
        "  * Efetue a importação de tais métricas a partir do pacote sklearn.metrics\n",
        "2. Elabore uma visualização da matriz de confusão normalizada para as previsões do conjunto de testes\n",
        "3. O modelo é bom para o problema? Justifique sua afirmação."
      ]
    },
    {
      "cell_type": "code",
      "execution_count": null,
      "metadata": {
        "id": "Au8cZWeKUn7K"
      },
      "outputs": [],
      "source": []
    },
    {
      "cell_type": "markdown",
      "metadata": {
        "id": "RtGVxCO3Un7K"
      },
      "source": [
        "#### Treinar um modelo de K-Vizinhos Mais Próximos\n",
        "\n",
        "É um algoritmo de Aprendizado de Máquina que baseia-se na média dos valores dos k vizinhos mais próximos a uma dada entrada para produzir uma estimativa para o atributo-alvo. É considerado \"preguiçoso\", mas muito mostra-se vantajoso por possuir um baixo custo computacional.\n",
        "\n",
        "1. Efetue o treinamento do K-Vizinhos mais Próximos, considerando k = 5\n",
        "2. Efetue o teste no modelo e obtenha as métricas de desempenho previamente indicadas.  "
      ]
    },
    {
      "cell_type": "code",
      "execution_count": null,
      "metadata": {
        "id": "Zjx6zaCeUn7K"
      },
      "outputs": [],
      "source": []
    },
    {
      "cell_type": "markdown",
      "metadata": {
        "id": "LQJ2qvbYUn7K"
      },
      "source": [
        "#### Treinar um modelo de Árvore de Decisão\n",
        "\n",
        "É um modelo de aprendizado de máquina supervisionado, utilizado para problemas de classificação e regressão. Sua estrutura se assemelha a um fluxograma, em que cada nó interno representa um teste em uma atributo dado, cada ramo corresponde a um resultado desse teste, e cada nó folha a uma decisão final ou previsão. Destaca-se por sua interpretabilidade\n",
        "\n",
        "1. Efetue o treinamento do Árvore de Decisão, utilizando o critério de entropia.\n",
        "2. Efetue o teste no modelo e obtenha as métricas de desempenho previamente indicadas.  \n",
        "3. Plote a árvore de decisão construída."
      ]
    },
    {
      "cell_type": "code",
      "execution_count": null,
      "metadata": {
        "id": "2HA9zJJ8Un7K"
      },
      "outputs": [],
      "source": []
    },
    {
      "cell_type": "markdown",
      "metadata": {
        "id": "hLQQ4J2kUn7L"
      },
      "source": [
        "#### Síntese dos Resultados\n",
        "\n",
        "- Agrupe as matrizes de confusão obtidas lado a lado\n",
        "- Crie uma tabela com todos os modelos e métricas (Pretty Table)"
      ]
    },
    {
      "cell_type": "code",
      "execution_count": null,
      "metadata": {
        "id": "hfgxJV_qUn7L"
      },
      "outputs": [],
      "source": []
    },
    {
      "cell_type": "code",
      "execution_count": null,
      "metadata": {
        "id": "OsV8H1HMUn7L"
      },
      "outputs": [],
      "source": []
    },
    {
      "cell_type": "markdown",
      "metadata": {
        "id": "YUn7SuYrUn7L"
      },
      "source": [
        "#### Argumente\n",
        "\n",
        "- Qual o melhor modelo para o problema em questão?\n",
        "- Qual o grau de dificuldade da tarefa de aprendizado proposta? Justifique a partir dos elementos e resultados obtidos nas células anteriores."
      ]
    },
    {
      "cell_type": "code",
      "execution_count": null,
      "metadata": {
        "id": "G1jrvVu-Un7L"
      },
      "outputs": [],
      "source": []
    }
  ],
  "metadata": {
    "kernelspec": {
      "display_name": "Python 3",
      "language": "python",
      "name": "python3"
    },
    "language_info": {
      "codemirror_mode": {
        "name": "ipython",
        "version": 3
      },
      "file_extension": ".py",
      "mimetype": "text/x-python",
      "name": "python",
      "nbconvert_exporter": "python",
      "pygments_lexer": "ipython3",
      "version": "3.6.9"
    },
    "colab": {
      "provenance": [],
      "include_colab_link": true
    }
  },
  "nbformat": 4,
  "nbformat_minor": 0
}